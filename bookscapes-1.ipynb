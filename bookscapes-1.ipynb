{
 "cells": [
  {
   "cell_type": "code",
   "execution_count": 2,
   "id": "b8c32546",
   "metadata": {},
   "outputs": [],
   "source": [
    "import pandas as pd\n",
    "import ast\n",
    "from sklearn.feature_extraction.text import TfidfVectorizer\n",
    "from sklearn.metrics.pairwise import cosine_similarity"
   ]
  },
  {
   "cell_type": "code",
   "execution_count": 3,
   "id": "685c630b",
   "metadata": {},
   "outputs": [
    {
     "data": {
      "text/html": [
       "<div>\n",
       "<style scoped>\n",
       "    .dataframe tbody tr th:only-of-type {\n",
       "        vertical-align: middle;\n",
       "    }\n",
       "\n",
       "    .dataframe tbody tr th {\n",
       "        vertical-align: top;\n",
       "    }\n",
       "\n",
       "    .dataframe thead th {\n",
       "        text-align: right;\n",
       "    }\n",
       "</style>\n",
       "<table border=\"1\" class=\"dataframe\">\n",
       "  <thead>\n",
       "    <tr style=\"text-align: right;\">\n",
       "      <th></th>\n",
       "      <th>authors</th>\n",
       "      <th>average_rating</th>\n",
       "      <th>book_id</th>\n",
       "      <th>description</th>\n",
       "      <th>genres</th>\n",
       "      <th>isbn</th>\n",
       "      <th>publishDate</th>\n",
       "      <th>title</th>\n",
       "    </tr>\n",
       "  </thead>\n",
       "  <tbody>\n",
       "    <tr>\n",
       "      <th>0</th>\n",
       "      <td>['Suzanne Collins']</td>\n",
       "      <td>4.34</td>\n",
       "      <td>1</td>\n",
       "      <td>WINNING MEANS FAME AND FORTUNE.LOSING MEANS CE...</td>\n",
       "      <td>['young-adult', 'fiction', 'fantasy', 'science...</td>\n",
       "      <td>439023483</td>\n",
       "      <td>09/14/08</td>\n",
       "      <td>The Hunger Games (The Hunger Games, #1)</td>\n",
       "    </tr>\n",
       "    <tr>\n",
       "      <th>1</th>\n",
       "      <td>['J.K. Rowling', 'Mary GrandPré']</td>\n",
       "      <td>4.44</td>\n",
       "      <td>2</td>\n",
       "      <td>Harry Potter's life is miserable. His parents ...</td>\n",
       "      <td>['fantasy', 'fiction', 'young-adult', 'classics']</td>\n",
       "      <td>439554934</td>\n",
       "      <td>11-01-2003</td>\n",
       "      <td>Harry Potter and the Sorcerer's Stone (Harry P...</td>\n",
       "    </tr>\n",
       "    <tr>\n",
       "      <th>2</th>\n",
       "      <td>['Stephenie Meyer']</td>\n",
       "      <td>3.57</td>\n",
       "      <td>3</td>\n",
       "      <td>About three things I was absolutely positive.\\...</td>\n",
       "      <td>['young-adult', 'fantasy', 'romance', 'fiction...</td>\n",
       "      <td>316015849</td>\n",
       "      <td>09-06-2006</td>\n",
       "      <td>Twilight (Twilight, #1)</td>\n",
       "    </tr>\n",
       "    <tr>\n",
       "      <th>3</th>\n",
       "      <td>['Harper Lee']</td>\n",
       "      <td>4.25</td>\n",
       "      <td>4</td>\n",
       "      <td>The unforgettable novel of a childhood in a sl...</td>\n",
       "      <td>['classics', 'fiction', 'historical-fiction', ...</td>\n",
       "      <td>61120081</td>\n",
       "      <td>05/23/06</td>\n",
       "      <td>To Kill a Mockingbird</td>\n",
       "    </tr>\n",
       "    <tr>\n",
       "      <th>4</th>\n",
       "      <td>['F. Scott Fitzgerald']</td>\n",
       "      <td>3.89</td>\n",
       "      <td>5</td>\n",
       "      <td>Alternate Cover Edition ISBN: 0743273567 (ISBN...</td>\n",
       "      <td>['classics', 'fiction', 'historical-fiction', ...</td>\n",
       "      <td>743273567</td>\n",
       "      <td>09/28/04</td>\n",
       "      <td>The Great Gatsby</td>\n",
       "    </tr>\n",
       "  </tbody>\n",
       "</table>\n",
       "</div>"
      ],
      "text/plain": [
       "                             authors  average_rating  book_id  \\\n",
       "0                ['Suzanne Collins']            4.34        1   \n",
       "1  ['J.K. Rowling', 'Mary GrandPré']            4.44        2   \n",
       "2                ['Stephenie Meyer']            3.57        3   \n",
       "3                     ['Harper Lee']            4.25        4   \n",
       "4            ['F. Scott Fitzgerald']            3.89        5   \n",
       "\n",
       "                                         description  \\\n",
       "0  WINNING MEANS FAME AND FORTUNE.LOSING MEANS CE...   \n",
       "1  Harry Potter's life is miserable. His parents ...   \n",
       "2  About three things I was absolutely positive.\\...   \n",
       "3  The unforgettable novel of a childhood in a sl...   \n",
       "4  Alternate Cover Edition ISBN: 0743273567 (ISBN...   \n",
       "\n",
       "                                              genres       isbn publishDate  \\\n",
       "0  ['young-adult', 'fiction', 'fantasy', 'science...  439023483    09/14/08   \n",
       "1  ['fantasy', 'fiction', 'young-adult', 'classics']  439554934  11-01-2003   \n",
       "2  ['young-adult', 'fantasy', 'romance', 'fiction...  316015849  09-06-2006   \n",
       "3  ['classics', 'fiction', 'historical-fiction', ...   61120081    05/23/06   \n",
       "4  ['classics', 'fiction', 'historical-fiction', ...  743273567    09/28/04   \n",
       "\n",
       "                                               title  \n",
       "0            The Hunger Games (The Hunger Games, #1)  \n",
       "1  Harry Potter and the Sorcerer's Stone (Harry P...  \n",
       "2                            Twilight (Twilight, #1)  \n",
       "3                              To Kill a Mockingbird  \n",
       "4                                   The Great Gatsby  "
      ]
     },
     "execution_count": 3,
     "metadata": {},
     "output_type": "execute_result"
    }
   ],
   "source": [
    "# Load the dataset\n",
    "file_path = 'books_enriched.csv'\n",
    "books = pd.read_csv(file_path)\n",
    "books.head()"
   ]
  },
  {
   "cell_type": "code",
   "execution_count": 4,
   "id": "9ee2be1f",
   "metadata": {},
   "outputs": [],
   "source": [
    "def safe_eval(value):\n",
    "    try:\n",
    "        return ast.literal_eval(value)\n",
    "    except (ValueError, SyntaxError):\n",
    "        return []\n"
   ]
  },
  {
   "cell_type": "code",
   "execution_count": 5,
   "id": "37401486",
   "metadata": {},
   "outputs": [],
   "source": [
    "# Apply the safe_eval function to authors and genres\n",
    "books['authors'] = books['authors'].apply(safe_eval)\n",
    "books['genres'] = books['genres'].apply(safe_eval)\n",
    "\n",
    "# Fill NaN values in description and title with empty strings\n",
    "books['description'] = books['description'].fillna('')\n",
    "books['title'] = books['title'].fillna('')\n",
    "\n",
    "# Combine relevant text features into a single feature\n",
    "books['combined_features'] = books.apply(\n",
    "    lambda row: ' '.join(row['authors']) + ' ' + ' '.join(row['genres']) + ' ' + row['description'] + ' ' + row['title'],\n",
    "    axis=1)"
   ]
  },
  {
   "cell_type": "code",
   "execution_count": 6,
   "id": "97b67442",
   "metadata": {},
   "outputs": [
    {
     "name": "stdout",
     "output_type": "stream",
     "text": [
      "Suzanne Collins young-adult fiction fantasy science-fiction romance WINNING MEANS FAME AND FORTUNE.LOSING MEANS CERTAIN DEATH.THE HUNGER GAMES HAVE BEGUN. . . .In the ruins of a place once known as North America lies the nation of Panem, a shining Capitol surrounded by twelve outlying districts. The Capitol is harsh and cruel and keeps the districts in line by forcing them all to send one boy and once girl between the ages of twelve and eighteen to participate in the annual Hunger Games, a fight to the death on live TV.Sixteen-year-old Katniss Everdeen regards it as a death sentence when she steps forward to take her sister's place in the Games. But Katniss has been close to dead before—and survival, for her, is second nature. Without really meaning to, she becomes a contender. But if she is to win, she will have to start making choices that weight survival against humanity and life against love. The Hunger Games (The Hunger Games, #1)\n"
     ]
    }
   ],
   "source": [
    "print(books['combined_features'][0])"
   ]
  },
  {
   "cell_type": "code",
   "execution_count": 7,
   "id": "fb5a10b7",
   "metadata": {},
   "outputs": [],
   "source": [
    "# Apply TF-IDF Vectorizer\n",
    "tfidf = TfidfVectorizer(stop_words='english')\n",
    "tfidf_matrix = tfidf.fit_transform(books['combined_features'])\n",
    "\n",
    "# Compute cosine similarity matrix\n",
    "cosine_sim = cosine_similarity(tfidf_matrix, tfidf_matrix)\n"
   ]
  },
  {
   "cell_type": "code",
   "execution_count": 8,
   "id": "713887f9",
   "metadata": {},
   "outputs": [],
   "source": [
    "# Function to get recommendations\n",
    "def get_recommendations(title, cosine_sim=cosine_sim):\n",
    "    # Get the index of the book that matches the title\n",
    "    idx = books[books['title'] == title].index[0]\n",
    "\n",
    "    # Get the pairwise similarity scores of all books with that book\n",
    "    sim_scores = list(enumerate(cosine_sim[idx]))\n",
    "\n",
    "    # Sort the books based on the similarity scores\n",
    "    sim_scores = sorted(sim_scores, key=lambda x: x[1], reverse=True)\n",
    "\n",
    "    # Get the scores of the 10 most similar books\n",
    "    sim_scores = sim_scores[1:11]\n",
    "\n",
    "    # Get the book indices\n",
    "    book_indices = [i[0] for i in sim_scores]\n",
    "\n",
    "    # Return the top 10 most similar books\n",
    "    return books.iloc[book_indices]\n"
   ]
  },
  {
   "cell_type": "code",
   "execution_count": 9,
   "id": "95b33355",
   "metadata": {},
   "outputs": [
    {
     "name": "stdout",
     "output_type": "stream",
     "text": [
      "                                                  title  \\\n",
      "792           Fifty Shades Trilogy (Fifty Shades, #1-3)   \n",
      "87                Fifty Shades Freed (Fifty Shades, #3)   \n",
      "1030                            Grey (Fifty Shades, #4)   \n",
      "7819  Fifty Shades Duo: Fifty Shades Darker / Fifty ...   \n",
      "90               Fifty Shades Darker (Fifty Shades, #2)   \n",
      "6742                            Incarnate (Newsoul, #1)   \n",
      "4464                                     Shades of Grey   \n",
      "1779                     Release Me (Stark Trilogy, #1)   \n",
      "2982                                         Agnes Grey   \n",
      "3481  Lord John and the Private Matter (Lord John Gr...   \n",
      "\n",
      "                             authors  \\\n",
      "792                     [E.L. James]   \n",
      "87                      [E.L. James]   \n",
      "1030                    [E.L. James]   \n",
      "7819                    [E.L. James]   \n",
      "90                      [E.L. James]   \n",
      "6742                  [Jodi Meadows]   \n",
      "4464                 [Jasper Fforde]   \n",
      "1779                     [J. Kenner]   \n",
      "2982  [Anne Brontë, Angeline Goreau]   \n",
      "3481                [Diana Gabaldon]   \n",
      "\n",
      "                                                 genres  average_rating  \n",
      "792         [romance, fiction, contemporary, chick-lit]            4.13  \n",
      "87          [romance, fiction, contemporary, chick-lit]            3.88  \n",
      "1030        [romance, fiction, contemporary, chick-lit]            3.76  \n",
      "7819                   [romance, fiction, contemporary]            4.41  \n",
      "90          [romance, fiction, contemporary, chick-lit]            3.87  \n",
      "6742  [fantasy, young-adult, romance, paranormal, sc...            3.73  \n",
      "4464       [fantasy, fiction, science-fiction, mystery]            4.14  \n",
      "1779                   [romance, contemporary, fiction]            4.14  \n",
      "2982   [classics, fiction, romance, historical-fiction]            3.65  \n",
      "3481  [historical-fiction, fiction, mystery, fantasy...            3.66  \n"
     ]
    }
   ],
   "source": [
    "recommendations = get_recommendations('Fifty Shades of Grey (Fifty Shades, #1)')\n",
    "print(recommendations[['title', 'authors', 'genres', 'average_rating']])"
   ]
  },
  {
   "cell_type": "code",
   "execution_count": 29,
   "id": "8e2a7fd6",
   "metadata": {},
   "outputs": [],
   "source": [
    "def get_recommendations_new(title, genre=None, cosine_sim=cosine_sim):\n",
    "    # Get the index of the book that matches the title\n",
    "    idx = books[books['title'] == title].index[0]\n",
    "\n",
    "    # Get the pairwise similarity scores of all books with that book\n",
    "    sim_scores = list(enumerate(cosine_sim[idx]))\n",
    "\n",
    "    # Sort the books based on the similarity scores\n",
    "    sim_scores = sorted(sim_scores, key=lambda x: x[1], reverse=True)\n",
    "\n",
    "    # Get the scores of the most similar books\n",
    "    sim_scores = sim_scores[1:]\n",
    "\n",
    "    # Get the book indices\n",
    "    book_indices = [i[0] for i in sim_scores]\n",
    "\n",
    "    # Filter books by the given genre\n",
    "    filtered_books = books.iloc[book_indices]\n",
    "    if genre!=None:\n",
    "        filtered_books = filtered_books[filtered_books['genres'].apply(lambda x: genre in x)]\n",
    "\n",
    "    # Ensure only one book from similar titles is included\n",
    "    unique_titles = []\n",
    "    recommendations = []\n",
    "    for book in filtered_books.itertuples():\n",
    "        if recommendations==[]:\n",
    "            recommendations.append(book)\n",
    "        else:\n",
    "            b=[]\n",
    "            main_title = ' '.join(book.title.split())\n",
    "            for i in recommendations:\n",
    "                temp=' '.join(i.title.split())\n",
    "                b.append(bert_similarity(temp,main_title))\n",
    "            if not(max(b)>0.7):\n",
    "                recommendations.append(book)\n",
    "\n",
    "        # Stop when we have 10 recommendations\n",
    "        if len(recommendations) == 10:\n",
    "            break\n",
    "\n",
    "    # Convert list of recommendations to DataFrame\n",
    "    return pd.DataFrame(recommendations)"
   ]
  },
  {
   "cell_type": "code",
   "execution_count": 32,
   "id": "c80591ea",
   "metadata": {},
   "outputs": [],
   "source": [
    "a=get_recommendations_new('Fifty Shades of Grey (Fifty Shades, #1)', 'mystery')"
   ]
  },
  {
   "cell_type": "code",
   "execution_count": 33,
   "id": "8d0fcc32",
   "metadata": {},
   "outputs": [
    {
     "name": "stdout",
     "output_type": "stream",
     "text": [
      "                                               title  \\\n",
      "0                                     Shades of Grey   \n",
      "1  Lord John and the Private Matter (Lord John Gr...   \n",
      "2         The Scottish Prisoner (Lord John Grey, #3)   \n",
      "3          Silent in the Grave (Lady Julia Grey, #1)   \n",
      "4                                 The Shadowy Horses   \n",
      "5   The Murder of Roger Ackroyd (Hercule Poirot, #4)   \n",
      "6      Beautifully Damaged (Beautifully Damaged, #1)   \n",
      "7                                           Icebound   \n",
      "8                     If I Were You (Inside Out, #1)   \n",
      "9              15th Affair (Women's Murder Club #15)   \n",
      "\n",
      "                              authors  \\\n",
      "0                     [Jasper Fforde]   \n",
      "1                    [Diana Gabaldon]   \n",
      "2                    [Diana Gabaldon]   \n",
      "3                   [Deanna Raybourn]   \n",
      "4                  [Susanna Kearsley]   \n",
      "5                   [Agatha Christie]   \n",
      "6                      [[L.A. Fiore]]   \n",
      "7        [[David Axton, Dean Koontz]]   \n",
      "8                  [Lisa Renee Jones]   \n",
      "9  [[James Patterson, Maxine Paetro]]   \n",
      "\n",
      "                                              genres  average_rating  \n",
      "0       [fantasy, fiction, science-fiction, mystery]            4.14  \n",
      "1  [historical-fiction, fiction, mystery, fantasy...            3.66  \n",
      "2  [historical-fiction, fiction, fantasy, mystery...            4.19  \n",
      "3    [mystery, historical-fiction, romance, fiction]            3.91  \n",
      "4  [historical-fiction, romance, fiction, mystery...            3.92  \n",
      "5      [mystery, fiction, classics, crime, thriller]            4.20  \n",
      "6  [romance, contemporary, suspense, mystery, fic...            3.99  \n",
      "7  [horror, fiction, thriller, suspense, mystery,...            3.73  \n",
      "8         [romance, contemporary, mystery, suspense]            4.14  \n",
      "9  [mystery, fiction, crime, thriller, suspense, ...            4.04  \n"
     ]
    }
   ],
   "source": [
    "print(a[['title', 'authors', 'genres', 'average_rating']])"
   ]
  },
  {
   "cell_type": "code",
   "execution_count": 22,
   "id": "fa64dd62",
   "metadata": {},
   "outputs": [
    {
     "name": "stdout",
     "output_type": "stream",
     "text": [
      "Jaccard Similarity: 0.4444444444444444\n"
     ]
    }
   ],
   "source": [
    "def jaccard_similarity(text1, text2):\n",
    "    set1 = set(text1.lower().split())\n",
    "    set2 = set(text2.lower().split())\n",
    "    intersection = set1.intersection(set2)\n",
    "    union = set1.union(set2)\n",
    "    return len(intersection) / len(union)\n",
    "\n",
    "text1 = \"Fifty Shades of Grey (Fifty Shades, #1)\"\n",
    "text2 = \" Fifty Shades Trilogy (Fifty Shades, #1-3)\"\n",
    "similarity = jaccard_similarity(text1, text2)\n",
    "print(f\"Jaccard Similarity: {similarity}\")"
   ]
  },
  {
   "cell_type": "code",
   "execution_count": 25,
   "id": "b5e7336c",
   "metadata": {},
   "outputs": [
    {
     "name": "stderr",
     "output_type": "stream",
     "text": [
      "C:\\Users\\sagar\\anaconda3\\lib\\site-packages\\sentence_transformers\\cross_encoder\\CrossEncoder.py:11: TqdmExperimentalWarning: Using `tqdm.autonotebook.tqdm` in notebook mode. Use `tqdm.tqdm` instead to force console mode (e.g. in jupyter console)\n",
      "  from tqdm.autonotebook import tqdm, trange\n"
     ]
    },
    {
     "data": {
      "application/vnd.jupyter.widget-view+json": {
       "model_id": "13c1902d3c3f46f7860f0be8b922d669",
       "version_major": 2,
       "version_minor": 0
      },
      "text/plain": [
       "modules.json:   0%|          | 0.00/349 [00:00<?, ?B/s]"
      ]
     },
     "metadata": {},
     "output_type": "display_data"
    },
    {
     "name": "stderr",
     "output_type": "stream",
     "text": [
      "C:\\Users\\sagar\\anaconda3\\lib\\site-packages\\huggingface_hub\\file_download.py:157: UserWarning: `huggingface_hub` cache-system uses symlinks by default to efficiently store duplicated files but your machine does not support them in C:\\Users\\sagar\\.cache\\huggingface\\hub\\models--sentence-transformers--all-MiniLM-L6-v2. Caching files will still work but in a degraded version that might require more space on your disk. This warning can be disabled by setting the `HF_HUB_DISABLE_SYMLINKS_WARNING` environment variable. For more details, see https://huggingface.co/docs/huggingface_hub/how-to-cache#limitations.\n",
      "To support symlinks on Windows, you either need to activate Developer Mode or to run Python as an administrator. In order to see activate developer mode, see this article: https://docs.microsoft.com/en-us/windows/apps/get-started/enable-your-device-for-development\n",
      "  warnings.warn(message)\n"
     ]
    },
    {
     "data": {
      "application/vnd.jupyter.widget-view+json": {
       "model_id": "0bcaa46c83984dcaadb662584b82362f",
       "version_major": 2,
       "version_minor": 0
      },
      "text/plain": [
       "config_sentence_transformers.json:   0%|          | 0.00/116 [00:00<?, ?B/s]"
      ]
     },
     "metadata": {},
     "output_type": "display_data"
    },
    {
     "data": {
      "application/vnd.jupyter.widget-view+json": {
       "model_id": "34fdc1abe14d4f28aa0739ebe294fcbd",
       "version_major": 2,
       "version_minor": 0
      },
      "text/plain": [
       "README.md:   0%|          | 0.00/10.7k [00:00<?, ?B/s]"
      ]
     },
     "metadata": {},
     "output_type": "display_data"
    },
    {
     "data": {
      "application/vnd.jupyter.widget-view+json": {
       "model_id": "c3c794de858f46cf9ec17d038b636666",
       "version_major": 2,
       "version_minor": 0
      },
      "text/plain": [
       "sentence_bert_config.json:   0%|          | 0.00/53.0 [00:00<?, ?B/s]"
      ]
     },
     "metadata": {},
     "output_type": "display_data"
    },
    {
     "name": "stderr",
     "output_type": "stream",
     "text": [
      "C:\\Users\\sagar\\anaconda3\\lib\\site-packages\\huggingface_hub\\file_download.py:1132: FutureWarning: `resume_download` is deprecated and will be removed in version 1.0.0. Downloads always resume when possible. If you want to force a new download, use `force_download=True`.\n",
      "  warnings.warn(\n"
     ]
    },
    {
     "data": {
      "application/vnd.jupyter.widget-view+json": {
       "model_id": "79eda6eadec64e9b98c772614d336776",
       "version_major": 2,
       "version_minor": 0
      },
      "text/plain": [
       "config.json:   0%|          | 0.00/612 [00:00<?, ?B/s]"
      ]
     },
     "metadata": {},
     "output_type": "display_data"
    },
    {
     "data": {
      "application/vnd.jupyter.widget-view+json": {
       "model_id": "d6d3724dff0a4601af9c7e68e0d7a2d9",
       "version_major": 2,
       "version_minor": 0
      },
      "text/plain": [
       "model.safetensors:   0%|          | 0.00/90.9M [00:00<?, ?B/s]"
      ]
     },
     "metadata": {},
     "output_type": "display_data"
    },
    {
     "data": {
      "application/vnd.jupyter.widget-view+json": {
       "model_id": "a03556042ffd4f228f5eabb462e4941f",
       "version_major": 2,
       "version_minor": 0
      },
      "text/plain": [
       "tokenizer_config.json:   0%|          | 0.00/350 [00:00<?, ?B/s]"
      ]
     },
     "metadata": {},
     "output_type": "display_data"
    },
    {
     "data": {
      "application/vnd.jupyter.widget-view+json": {
       "model_id": "824204eb8abd42519147d6985626e68f",
       "version_major": 2,
       "version_minor": 0
      },
      "text/plain": [
       "vocab.txt:   0%|          | 0.00/232k [00:00<?, ?B/s]"
      ]
     },
     "metadata": {},
     "output_type": "display_data"
    },
    {
     "data": {
      "application/vnd.jupyter.widget-view+json": {
       "model_id": "9f3133fc360f417e913f89e71ab91dd3",
       "version_major": 2,
       "version_minor": 0
      },
      "text/plain": [
       "tokenizer.json:   0%|          | 0.00/466k [00:00<?, ?B/s]"
      ]
     },
     "metadata": {},
     "output_type": "display_data"
    },
    {
     "data": {
      "application/vnd.jupyter.widget-view+json": {
       "model_id": "742b9568ad28497b82e8e6c1cee2846b",
       "version_major": 2,
       "version_minor": 0
      },
      "text/plain": [
       "special_tokens_map.json:   0%|          | 0.00/112 [00:00<?, ?B/s]"
      ]
     },
     "metadata": {},
     "output_type": "display_data"
    },
    {
     "data": {
      "application/vnd.jupyter.widget-view+json": {
       "model_id": "e8b1691c72654c51bc0367636c74b57b",
       "version_major": 2,
       "version_minor": 0
      },
      "text/plain": [
       "1_Pooling/config.json:   0%|          | 0.00/190 [00:00<?, ?B/s]"
      ]
     },
     "metadata": {},
     "output_type": "display_data"
    },
    {
     "name": "stdout",
     "output_type": "stream",
     "text": [
      "BERT Similarity: 0.8647698163986206\n"
     ]
    }
   ],
   "source": [
    "from sentence_transformers import SentenceTransformer, util\n",
    "\n",
    "model = SentenceTransformer('all-MiniLM-L6-v2')\n",
    "\n",
    "def bert_similarity(text1, text2):\n",
    "    embeddings = model.encode([text1, text2])\n",
    "    cosine_similarities = util.pytorch_cos_sim(embeddings[0], embeddings[1])\n",
    "    return cosine_similarities.item()\n",
    "\n",
    "similarity = bert_similarity(text1, text2)\n",
    "print(f\"BERT Similarity: {similarity}\")\n"
   ]
  },
  {
   "cell_type": "code",
   "execution_count": null,
   "id": "b688e5fd",
   "metadata": {},
   "outputs": [],
   "source": []
  }
 ],
 "metadata": {
  "kernelspec": {
   "display_name": "Python 3 (ipykernel)",
   "language": "python",
   "name": "python3"
  },
  "language_info": {
   "codemirror_mode": {
    "name": "ipython",
    "version": 3
   },
   "file_extension": ".py",
   "mimetype": "text/x-python",
   "name": "python",
   "nbconvert_exporter": "python",
   "pygments_lexer": "ipython3",
   "version": "3.9.17"
  }
 },
 "nbformat": 4,
 "nbformat_minor": 5
}
